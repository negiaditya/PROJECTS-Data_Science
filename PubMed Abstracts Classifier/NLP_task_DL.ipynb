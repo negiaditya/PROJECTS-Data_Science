{
 "cells": [
  {
   "cell_type": "code",
   "execution_count": null,
   "metadata": {
    "colab": {
     "base_uri": "https://localhost:8080/"
    },
    "id": "9bPm9D0GzNZl",
    "outputId": "25b5aff8-67bd-4ce7-b5a3-09472d05d3ea"
   },
   "outputs": [
    {
     "name": "stdout",
     "output_type": "stream",
     "text": [
      "Collecting scikit-plot\n",
      "  Downloading https://files.pythonhosted.org/packages/7c/47/32520e259340c140a4ad27c1b97050dd3254fdc517b1d59974d47037510e/scikit_plot-0.3.7-py3-none-any.whl\n",
      "Requirement already satisfied: joblib>=0.10 in /usr/local/lib/python3.6/dist-packages (from scikit-plot) (1.0.0)\n",
      "Requirement already satisfied: matplotlib>=1.4.0 in /usr/local/lib/python3.6/dist-packages (from scikit-plot) (3.2.2)\n",
      "Requirement already satisfied: scikit-learn>=0.18 in /usr/local/lib/python3.6/dist-packages (from scikit-plot) (0.22.2.post1)\n",
      "Requirement already satisfied: scipy>=0.9 in /usr/local/lib/python3.6/dist-packages (from scikit-plot) (1.4.1)\n",
      "Requirement already satisfied: python-dateutil>=2.1 in /usr/local/lib/python3.6/dist-packages (from matplotlib>=1.4.0->scikit-plot) (2.8.1)\n",
      "Requirement already satisfied: numpy>=1.11 in /usr/local/lib/python3.6/dist-packages (from matplotlib>=1.4.0->scikit-plot) (1.19.5)\n",
      "Requirement already satisfied: kiwisolver>=1.0.1 in /usr/local/lib/python3.6/dist-packages (from matplotlib>=1.4.0->scikit-plot) (1.3.1)\n",
      "Requirement already satisfied: pyparsing!=2.0.4,!=2.1.2,!=2.1.6,>=2.0.1 in /usr/local/lib/python3.6/dist-packages (from matplotlib>=1.4.0->scikit-plot) (2.4.7)\n",
      "Requirement already satisfied: cycler>=0.10 in /usr/local/lib/python3.6/dist-packages (from matplotlib>=1.4.0->scikit-plot) (0.10.0)\n",
      "Requirement already satisfied: six>=1.5 in /usr/local/lib/python3.6/dist-packages (from python-dateutil>=2.1->matplotlib>=1.4.0->scikit-plot) (1.15.0)\n",
      "Installing collected packages: scikit-plot\n",
      "Successfully installed scikit-plot-0.3.7\n"
     ]
    }
   ],
   "source": [
    "%pip install scikit-plot"
   ]
  },
  {
   "cell_type": "code",
   "execution_count": null,
   "metadata": {
    "id": "DIy9eJD6nq96"
   },
   "outputs": [],
   "source": [
    "from __future__ import print_function\n",
    "import os\n",
    "import re\n",
    "import tqdm\n",
    "import string\n",
    "import pandas as pd\n",
    "import numpy as np\n",
    "import keras\n",
    "from nltk.corpus import stopwords\n",
    "import gensim\n",
    "from gensim.models.doc2vec import LabeledSentence\n",
    "from gensim import utils\n",
    "from gensim.models import Doc2Vec\n",
    "from keras.utils import np_utils\n",
    "from sklearn.preprocessing import LabelEncoder\n",
    "from sklearn.model_selection import cross_val_predict\n",
    "from sklearn.model_selection import train_test_split\n",
    "from sklearn.metrics import log_loss, accuracy_score,classification_report\n",
    "from keras.models import Sequential\n",
    "from keras.layers import Dense, Dropout, LSTM, Embedding, Input, RepeatVector,Flatten,Bidirectional\n",
    "from keras.optimizers import SGD,Adam,RMSprop\n",
    "import matplotlib.pyplot as plt\n",
    "from keras.preprocessing.text import Tokenizer\n",
    "from keras.preprocessing.sequence import pad_sequences\n",
    "from keras.utils.np_utils import to_categorical\n",
    "from keras.callbacks import ModelCheckpoint\n",
    "from keras.models import load_model\n",
    "import scikitplot.plotters as skplt"
   ]
  },
  {
   "cell_type": "code",
   "execution_count": null,
   "metadata": {
    "id": "g8SFVUNlpSTl"
   },
   "outputs": [],
   "source": [
    "os.chdir('/content/drive/MyDrive/NLP_task/')"
   ]
  },
  {
   "cell_type": "code",
   "execution_count": null,
   "metadata": {
    "id": "oM3BN6zFvMvA"
   },
   "outputs": [],
   "source": [
    "df_train = pd.read_csv('train.csv')\n",
    "df_test = pd.read_csv('test.csv')"
   ]
  },
  {
   "cell_type": "code",
   "execution_count": null,
   "metadata": {
    "id": "nSZ7xr6szbCA"
   },
   "outputs": [],
   "source": [
    "df_train['Abstract'] = df_train['Abstract'].apply(str)\n",
    "df_test['Abstract'] = df_test['Abstract'].apply(str)"
   ]
  },
  {
   "cell_type": "markdown",
   "metadata": {
    "id": "CDk-z52Bvnc_"
   },
   "source": [
    "### Taking into account sequential nature of text using a simple LSTM"
   ]
  },
  {
   "cell_type": "code",
   "execution_count": null,
   "metadata": {
    "id": "h9f5o9yqvin5"
   },
   "outputs": [],
   "source": [
    "num_words=2000\n",
    "tokenizer = Tokenizer(num_words=num_words)\n",
    "tokenizer.fit_on_texts(df_train['Abstract'].values)"
   ]
  },
  {
   "cell_type": "code",
   "execution_count": null,
   "metadata": {
    "id": "Pzi8U0nswTpA"
   },
   "outputs": [],
   "source": [
    "X = tokenizer.texts_to_sequences(df_train['Abstract'].values)\n",
    "X = pad_sequences(X, maxlen=2000)"
   ]
  },
  {
   "cell_type": "code",
   "execution_count": null,
   "metadata": {
    "colab": {
     "base_uri": "https://localhost:8080/"
    },
    "id": "DZj4grvDz3xJ",
    "outputId": "c1556c50-73bc-4bb0-808b-74272c5854fd"
   },
   "outputs": [
    {
     "name": "stdout",
     "output_type": "stream",
     "text": [
      "WARNING:tensorflow:Layer lstm will not use cuDNN kernel since it doesn't meet the cuDNN kernel criteria. It will use generic GPU kernel as fallback when running on GPU\n",
      "Model: \"sequential\"\n",
      "_________________________________________________________________\n",
      "Layer (type)                 Output Shape              Param #   \n",
      "=================================================================\n",
      "embedding (Embedding)        (None, 2000, 128)         256000    \n",
      "_________________________________________________________________\n",
      "lstm (LSTM)                  (None, 196)               254800    \n",
      "_________________________________________________________________\n",
      "dense (Dense)                (None, 4)                 788       \n",
      "=================================================================\n",
      "Total params: 511,588\n",
      "Trainable params: 511,588\n",
      "Non-trainable params: 0\n",
      "_________________________________________________________________\n",
      "None\n"
     ]
    }
   ],
   "source": [
    "embed_dim = 128\n",
    "lstm_out = 196\n",
    "\n",
    "# Model saving callback\n",
    "ckpt_callback = ModelCheckpoint('keras_model', \n",
    "                                 monitor='val_loss', \n",
    "                                 verbose=1, \n",
    "                                 save_best_only=True, \n",
    "                                 mode='auto')\n",
    "\n",
    "model = Sequential()\n",
    "model.add(Embedding(num_words, embed_dim, input_length = X.shape[1]))\n",
    "model.add(LSTM(lstm_out, recurrent_dropout=0.2, dropout=0.2))\n",
    "model.add(Dense(4,activation='softmax'))\n",
    "model.compile(loss = 'categorical_crossentropy', optimizer='adam', metrics = ['categorical_crossentropy'])\n",
    "print(model.summary())"
   ]
  },
  {
   "cell_type": "code",
   "execution_count": null,
   "metadata": {
    "colab": {
     "base_uri": "https://localhost:8080/"
    },
    "id": "dzBayuAi0IIl",
    "outputId": "a89cfc4c-1830-4ad6-8097-1848610e1c7f"
   },
   "outputs": [
    {
     "name": "stdout",
     "output_type": "stream",
     "text": [
      "(8524, 2000) (8524, 4)\n",
      "(2131, 2000) (2131, 4)\n"
     ]
    }
   ],
   "source": [
    "Y = pd.get_dummies(df_train['Label']).values\n",
    "X_train, X_test, Y_train, Y_test = train_test_split(X, Y, test_size = 0.2, random_state = 42, stratify=Y)\n",
    "print(X_train.shape, Y_train.shape)\n",
    "print(X_test.shape, Y_test.shape)"
   ]
  },
  {
   "cell_type": "code",
   "execution_count": null,
   "metadata": {
    "colab": {
     "base_uri": "https://localhost:8080/"
    },
    "id": "N5yKr-LF0Pzd",
    "outputId": "07e30f76-8093-45d0-9c0c-4fc7b2884932"
   },
   "outputs": [
    {
     "name": "stdout",
     "output_type": "stream",
     "text": [
      "Epoch 1/8\n",
      "214/214 [==============================] - 1635s 8s/step - loss: 1.1847 - categorical_crossentropy: 1.1847 - val_loss: 1.1452 - val_categorical_crossentropy: 1.1452\n",
      "\n",
      "Epoch 00001: val_loss improved from inf to 1.14522, saving model to keras_model\n",
      "INFO:tensorflow:Assets written to: keras_model/assets\n",
      "Epoch 2/8\n",
      "214/214 [==============================] - 1633s 8s/step - loss: 0.7862 - categorical_crossentropy: 0.7862 - val_loss: 1.8775 - val_categorical_crossentropy: 1.8775\n",
      "\n",
      "Epoch 00002: val_loss did not improve from 1.14522\n",
      "Epoch 3/8\n",
      "214/214 [==============================] - 1627s 8s/step - loss: 1.1239 - categorical_crossentropy: 1.1239 - val_loss: 1.2525 - val_categorical_crossentropy: 1.2525\n",
      "\n",
      "Epoch 00003: val_loss did not improve from 1.14522\n",
      "Epoch 4/8\n",
      "214/214 [==============================] - 1642s 8s/step - loss: 0.6675 - categorical_crossentropy: 0.6675 - val_loss: 0.5201 - val_categorical_crossentropy: 0.5201\n",
      "\n",
      "Epoch 00004: val_loss improved from 1.14522 to 0.52010, saving model to keras_model\n",
      "INFO:tensorflow:Assets written to: keras_model/assets\n",
      "Epoch 5/8\n",
      "214/214 [==============================] - 1633s 8s/step - loss: 0.3609 - categorical_crossentropy: 0.3609 - val_loss: 0.5253 - val_categorical_crossentropy: 0.5253\n",
      "\n",
      "Epoch 00005: val_loss did not improve from 0.52010\n",
      "Epoch 6/8\n",
      "214/214 [==============================] - 1637s 8s/step - loss: 0.3976 - categorical_crossentropy: 0.3976 - val_loss: 0.5225 - val_categorical_crossentropy: 0.5225\n",
      "\n",
      "Epoch 00006: val_loss did not improve from 0.52010\n",
      "Epoch 7/8\n",
      "214/214 [==============================] - 1647s 8s/step - loss: 0.3255 - categorical_crossentropy: 0.3255 - val_loss: 0.6682 - val_categorical_crossentropy: 0.6682\n",
      "\n",
      "Epoch 00007: val_loss did not improve from 0.52010\n",
      "Epoch 8/8\n",
      "214/214 [==============================] - 1648s 8s/step - loss: 0.3391 - categorical_crossentropy: 0.3391 - val_loss: 0.4050 - val_categorical_crossentropy: 0.4050\n",
      "\n",
      "Epoch 00008: val_loss improved from 0.52010 to 0.40495, saving model to keras_model\n",
      "INFO:tensorflow:Assets written to: keras_model/assets\n"
     ]
    },
    {
     "data": {
      "text/plain": [
       "<tensorflow.python.keras.callbacks.History at 0x7f2af25e57f0>"
      ]
     },
     "execution_count": 10,
     "metadata": {
      "tags": []
     },
     "output_type": "execute_result"
    }
   ],
   "source": [
    "batch_size = 32\n",
    "model.fit(X_train, Y_train, epochs=8, batch_size=batch_size, validation_split=0.2, callbacks=[ckpt_callback])"
   ]
  },
  {
   "cell_type": "code",
   "execution_count": null,
   "metadata": {
    "colab": {
     "base_uri": "https://localhost:8080/",
     "height": 604
    },
    "id": "BaVG7yYG0Y78",
    "outputId": "86db4033-da18-465a-cd97-184d45dce84a"
   },
   "outputs": [
    {
     "name": "stdout",
     "output_type": "stream",
     "text": [
      "WARNING:tensorflow:Layer lstm will not use cuDNN kernel since it doesn't meet the cuDNN kernel criteria. It will use generic GPU kernel as fallback when running on GPU\n",
      "Log loss: 0.39012164175781644\n",
      "Accuracy: 0.8723603941811356\n",
      "              precision    recall  f1-score   support\n",
      "\n",
      "           1       0.84      0.91      0.87       644\n",
      "           2       0.92      0.99      0.95       484\n",
      "           3       0.93      0.90      0.91       752\n",
      "           4       0.65      0.49      0.56       251\n",
      "\n",
      "    accuracy                           0.87      2131\n",
      "   macro avg       0.83      0.82      0.82      2131\n",
      "weighted avg       0.87      0.87      0.87      2131\n",
      "\n"
     ]
    },
    {
     "name": "stderr",
     "output_type": "stream",
     "text": [
      "/usr/local/lib/python3.6/dist-packages/sklearn/utils/deprecation.py:87: FutureWarning: Function plot_confusion_matrix is deprecated; This will be removed in v0.4.0. Please use scikitplot.metrics.plot_confusion_matrix instead.\n",
      "  warnings.warn(msg, category=FutureWarning)\n"
     ]
    },
    {
     "data": {
      "text/plain": [
       "<matplotlib.axes._subplots.AxesSubplot at 0x7f2979d37d30>"
      ]
     },
     "execution_count": 15,
     "metadata": {
      "tags": []
     },
     "output_type": "execute_result"
    },
    {
     "data": {
      "image/png": "[encoded data removed]",
      "text/plain": [
       "<Figure size 432x288 with 2 Axes>"
      ]
     },
     "metadata": {
      "needs_background": "light",
      "tags": []
     },
     "output_type": "display_data"
    }
   ],
   "source": [
    "model = load_model('keras_model')\n",
    "probas = model.predict(X_test)\n",
    "pred_indices = np.argmax(probas, axis=1)\n",
    "classes = np.array(range(1, 5))\n",
    "preds = classes[pred_indices]\n",
    "print('Log loss: {}'.format(log_loss(classes[np.argmax(Y_test, axis=1)], probas)))\n",
    "print('Accuracy: {}'.format(accuracy_score(classes[np.argmax(Y_test, axis=1)], preds)))\n",
    "print(classification_report(classes[np.argmax(Y_test, axis=1)], preds, labels=classes))\n",
    "skplt.plot_confusion_matrix(classes[np.argmax(Y_test, axis=1)], preds)"
   ]
  },
  {
   "cell_type": "markdown",
   "metadata": {
    "id": "83SwdtPELxji"
   },
   "source": [
    "On test data set"
   ]
  },
  {
   "cell_type": "code",
   "execution_count": null,
   "metadata": {
    "id": "5Sa-MpLkL5q8"
   },
   "outputs": [],
   "source": [
    "x_train = tokenizer.texts_to_sequences(df_test['Abstract'].values)\n",
    "x_train = pad_sequences(x_train, maxlen=2000)\n",
    "y_train = pd.get_dummies(df_test['Label']).values"
   ]
  },
  {
   "cell_type": "code",
   "execution_count": null,
   "metadata": {
    "colab": {
     "base_uri": "https://localhost:8080/",
     "height": 587
    },
    "id": "M_IGOdlRLxFW",
    "outputId": "0f710b9e-d710-4c82-8c0d-26ba3e13f9f8"
   },
   "outputs": [
    {
     "name": "stdout",
     "output_type": "stream",
     "text": [
      "Log loss: 0.44376803292393996\n",
      "Accuracy: 0.8552660389752573\n",
      "              precision    recall  f1-score   support\n",
      "\n",
      "           1       0.79      0.91      0.85      1379\n",
      "           2       0.91      0.98      0.94      1038\n",
      "           3       0.93      0.86      0.90      1612\n",
      "           4       0.66      0.45      0.53       538\n",
      "\n",
      "    accuracy                           0.86      4567\n",
      "   macro avg       0.82      0.80      0.80      4567\n",
      "weighted avg       0.85      0.86      0.85      4567\n",
      "\n"
     ]
    },
    {
     "name": "stderr",
     "output_type": "stream",
     "text": [
      "/usr/local/lib/python3.6/dist-packages/sklearn/utils/deprecation.py:87: FutureWarning: Function plot_confusion_matrix is deprecated; This will be removed in v0.4.0. Please use scikitplot.metrics.plot_confusion_matrix instead.\n",
      "  warnings.warn(msg, category=FutureWarning)\n"
     ]
    },
    {
     "data": {
      "text/plain": [
       "<matplotlib.axes._subplots.AxesSubplot at 0x7f703bce6f28>"
      ]
     },
     "execution_count": 45,
     "metadata": {
      "tags": []
     },
     "output_type": "execute_result"
    },
    {
     "data": {
      "image/png": "[encoded data removed]",
      "text/plain": [
       "<Figure size 432x288 with 2 Axes>"
      ]
     },
     "metadata": {
      "needs_background": "light",
      "tags": []
     },
     "output_type": "display_data"
    }
   ],
   "source": [
    "model = load_model('keras_model')\n",
    "probas = model.predict(x_train)\n",
    "pred_indices = np.argmax(probas, axis=1)\n",
    "classes = np.array(range(1, 5))\n",
    "preds = classes[pred_indices]\n",
    "print('Log loss: {}'.format(log_loss(classes[np.argmax(y_train, axis=1)], probas)))\n",
    "print('Accuracy: {}'.format(accuracy_score(classes[np.argmax(y_train, axis=1)], preds)))\n",
    "print(classification_report(classes[np.argmax(y_train, axis=1)], preds, labels=classes))\n",
    "skplt.plot_confusion_matrix(classes[np.argmax(y_train, axis=1)], preds)"
   ]
  },
  {
   "cell_type": "markdown",
   "metadata": {
    "id": "84UZgIq74R7m"
   },
   "source": [
    "# Using pretrained embeddings for deep learning model"
   ]
  },
  {
   "cell_type": "markdown",
   "metadata": {
    "id": "vCu7u0nWXO7y"
   },
   "source": [
    "## Using word2vec trained embeddings"
   ]
  },
  {
   "cell_type": "code",
   "execution_count": null,
   "metadata": {
    "id": "-bM6-Si1PQd6"
   },
   "outputs": [],
   "source": [
    "X = np.load('trainglove.npy')\n",
    "x_test = np.load('testglove.npy')\n",
    "embedding_matrix = np.load('glovembed.npy')"
   ]
  },
  {
   "cell_type": "code",
   "execution_count": null,
   "metadata": {
    "id": "ySV67FBpchtI"
   },
   "outputs": [],
   "source": [
    "y_test = pd.get_dummies(df_test['Label']).values"
   ]
  },
  {
   "cell_type": "code",
   "execution_count": null,
   "metadata": {
    "colab": {
     "base_uri": "https://localhost:8080/"
    },
    "id": "_3Q93bswQ5hx",
    "outputId": "353a436c-3da0-497f-dab4-d48b5ca51961"
   },
   "outputs": [
    {
     "data": {
      "text/plain": [
       "(58097, 300)"
      ]
     },
     "execution_count": 12,
     "metadata": {
      "tags": []
     },
     "output_type": "execute_result"
    }
   ],
   "source": [
    "embedding_matrix.shape"
   ]
  },
  {
   "cell_type": "code",
   "execution_count": null,
   "metadata": {
    "colab": {
     "base_uri": "https://localhost:8080/"
    },
    "id": "nbp02nDNXVox",
    "outputId": "85f33c0b-1418-4c35-aae0-fbaaad2fdad7"
   },
   "outputs": [
    {
     "name": "stdout",
     "output_type": "stream",
     "text": [
      "Model: \"sequential_2\"\n",
      "_________________________________________________________________\n",
      "Layer (type)                 Output Shape              Param #   \n",
      "=================================================================\n",
      "embedding_2 (Embedding)      (None, 300, 300)          17429100  \n",
      "_________________________________________________________________\n",
      "bidirectional_2 (Bidirection (None, 300, 392)          779296    \n",
      "_________________________________________________________________\n",
      "dropout_2 (Dropout)          (None, 300, 392)          0         \n",
      "_________________________________________________________________\n",
      "bidirectional_3 (Bidirection (None, 392)               923552    \n",
      "_________________________________________________________________\n",
      "dropout_3 (Dropout)          (None, 392)               0         \n",
      "_________________________________________________________________\n",
      "dense_2 (Dense)              (None, 4)                 1572      \n",
      "=================================================================\n",
      "Total params: 19,133,520\n",
      "Trainable params: 1,704,420\n",
      "Non-trainable params: 17,429,100\n",
      "_________________________________________________________________\n",
      "None\n"
     ]
    }
   ],
   "source": [
    "max_length = 300\n",
    "lstm_out = 196\n",
    "num_words = 58097\n",
    "\n",
    "# Model saving callback\n",
    "ckpt_callback2 = ModelCheckpoint('glove_model', \n",
    "                                 monitor='val_loss', \n",
    "                                 verbose=1, \n",
    "                                 save_best_only=True, \n",
    "                                 mode='auto')\n",
    "\n",
    "gmodel = Sequential()\n",
    "gmodel.add(Embedding(num_words, max_length, weights=[embedding_matrix] ,input_length = max_length,trainable=False))\n",
    "gmodel.add(Bidirectional(LSTM(lstm_out,return_sequences=True)))\n",
    "gmodel.add(Dropout(0.2))\n",
    "gmodel.add(Bidirectional(LSTM(lstm_out)))\n",
    "gmodel.add(Dropout(0.2))\n",
    "gmodel.add(Dense(4,activation='softmax'))\n",
    "gmodel.compile(loss = 'categorical_crossentropy', optimizer='adam', metrics = ['categorical_crossentropy'])\n",
    "print(gmodel.summary())"
   ]
  },
  {
   "cell_type": "code",
   "execution_count": null,
   "metadata": {
    "colab": {
     "base_uri": "https://localhost:8080/"
    },
    "id": "3UfLNyyfXVk5",
    "outputId": "270f6638-4c28-466b-abea-355530d73391"
   },
   "outputs": [
    {
     "name": "stdout",
     "output_type": "stream",
     "text": [
      "Epoch 1/8\n",
      "267/267 [==============================] - 30s 94ms/step - loss: 0.5900 - categorical_crossentropy: 0.5900 - val_loss: 0.3954 - val_categorical_crossentropy: 0.3954\n",
      "\n",
      "Epoch 00001: val_loss improved from inf to 0.39537, saving model to glove_model\n"
     ]
    },
    {
     "name": "stderr",
     "output_type": "stream",
     "text": [
      "WARNING:absl:Found untraced functions such as lstm_cell_8_layer_call_fn, lstm_cell_8_layer_call_and_return_conditional_losses, lstm_cell_9_layer_call_fn, lstm_cell_9_layer_call_and_return_conditional_losses, lstm_cell_11_layer_call_fn while saving (showing 5 of 20). These functions will not be directly callable after loading.\n",
      "WARNING:absl:Found untraced functions such as lstm_cell_8_layer_call_fn, lstm_cell_8_layer_call_and_return_conditional_losses, lstm_cell_9_layer_call_fn, lstm_cell_9_layer_call_and_return_conditional_losses, lstm_cell_11_layer_call_fn while saving (showing 5 of 20). These functions will not be directly callable after loading.\n"
     ]
    },
    {
     "name": "stdout",
     "output_type": "stream",
     "text": [
      "INFO:tensorflow:Assets written to: glove_model/assets\n"
     ]
    },
    {
     "name": "stderr",
     "output_type": "stream",
     "text": [
      "INFO:tensorflow:Assets written to: glove_model/assets\n"
     ]
    },
    {
     "name": "stdout",
     "output_type": "stream",
     "text": [
      "Epoch 2/8\n",
      "267/267 [==============================] - 25s 92ms/step - loss: 0.3053 - categorical_crossentropy: 0.3053 - val_loss: 0.3272 - val_categorical_crossentropy: 0.3272\n",
      "\n",
      "Epoch 00002: val_loss improved from 0.39537 to 0.32721, saving model to glove_model\n"
     ]
    },
    {
     "name": "stderr",
     "output_type": "stream",
     "text": [
      "WARNING:absl:Found untraced functions such as lstm_cell_8_layer_call_fn, lstm_cell_8_layer_call_and_return_conditional_losses, lstm_cell_9_layer_call_fn, lstm_cell_9_layer_call_and_return_conditional_losses, lstm_cell_11_layer_call_fn while saving (showing 5 of 20). These functions will not be directly callable after loading.\n",
      "WARNING:absl:Found untraced functions such as lstm_cell_8_layer_call_fn, lstm_cell_8_layer_call_and_return_conditional_losses, lstm_cell_9_layer_call_fn, lstm_cell_9_layer_call_and_return_conditional_losses, lstm_cell_11_layer_call_fn while saving (showing 5 of 20). These functions will not be directly callable after loading.\n"
     ]
    },
    {
     "name": "stdout",
     "output_type": "stream",
     "text": [
      "INFO:tensorflow:Assets written to: glove_model/assets\n"
     ]
    },
    {
     "name": "stderr",
     "output_type": "stream",
     "text": [
      "INFO:tensorflow:Assets written to: glove_model/assets\n"
     ]
    },
    {
     "name": "stdout",
     "output_type": "stream",
     "text": [
      "Epoch 3/8\n",
      "267/267 [==============================] - 25s 94ms/step - loss: 0.2369 - categorical_crossentropy: 0.2369 - val_loss: 0.2270 - val_categorical_crossentropy: 0.2270\n",
      "\n",
      "Epoch 00003: val_loss improved from 0.32721 to 0.22700, saving model to glove_model\n"
     ]
    },
    {
     "name": "stderr",
     "output_type": "stream",
     "text": [
      "WARNING:absl:Found untraced functions such as lstm_cell_8_layer_call_fn, lstm_cell_8_layer_call_and_return_conditional_losses, lstm_cell_9_layer_call_fn, lstm_cell_9_layer_call_and_return_conditional_losses, lstm_cell_11_layer_call_fn while saving (showing 5 of 20). These functions will not be directly callable after loading.\n",
      "WARNING:absl:Found untraced functions such as lstm_cell_8_layer_call_fn, lstm_cell_8_layer_call_and_return_conditional_losses, lstm_cell_9_layer_call_fn, lstm_cell_9_layer_call_and_return_conditional_losses, lstm_cell_11_layer_call_fn while saving (showing 5 of 20). These functions will not be directly callable after loading.\n"
     ]
    },
    {
     "name": "stdout",
     "output_type": "stream",
     "text": [
      "INFO:tensorflow:Assets written to: glove_model/assets\n"
     ]
    },
    {
     "name": "stderr",
     "output_type": "stream",
     "text": [
      "INFO:tensorflow:Assets written to: glove_model/assets\n"
     ]
    },
    {
     "name": "stdout",
     "output_type": "stream",
     "text": [
      "Epoch 4/8\n",
      "267/267 [==============================] - 25s 92ms/step - loss: 0.1958 - categorical_crossentropy: 0.1958 - val_loss: 0.2252 - val_categorical_crossentropy: 0.2252\n",
      "\n",
      "Epoch 00004: val_loss improved from 0.22700 to 0.22516, saving model to glove_model\n"
     ]
    },
    {
     "name": "stderr",
     "output_type": "stream",
     "text": [
      "WARNING:absl:Found untraced functions such as lstm_cell_8_layer_call_fn, lstm_cell_8_layer_call_and_return_conditional_losses, lstm_cell_9_layer_call_fn, lstm_cell_9_layer_call_and_return_conditional_losses, lstm_cell_11_layer_call_fn while saving (showing 5 of 20). These functions will not be directly callable after loading.\n",
      "WARNING:absl:Found untraced functions such as lstm_cell_8_layer_call_fn, lstm_cell_8_layer_call_and_return_conditional_losses, lstm_cell_9_layer_call_fn, lstm_cell_9_layer_call_and_return_conditional_losses, lstm_cell_11_layer_call_fn while saving (showing 5 of 20). These functions will not be directly callable after loading.\n"
     ]
    },
    {
     "name": "stdout",
     "output_type": "stream",
     "text": [
      "INFO:tensorflow:Assets written to: glove_model/assets\n"
     ]
    },
    {
     "name": "stderr",
     "output_type": "stream",
     "text": [
      "INFO:tensorflow:Assets written to: glove_model/assets\n"
     ]
    },
    {
     "name": "stdout",
     "output_type": "stream",
     "text": [
      "Epoch 5/8\n",
      "267/267 [==============================] - 25s 92ms/step - loss: 0.1737 - categorical_crossentropy: 0.1737 - val_loss: 0.2435 - val_categorical_crossentropy: 0.2435\n",
      "\n",
      "Epoch 00005: val_loss did not improve from 0.22516\n",
      "Epoch 6/8\n",
      "267/267 [==============================] - 25s 93ms/step - loss: 0.1457 - categorical_crossentropy: 0.1457 - val_loss: 0.2164 - val_categorical_crossentropy: 0.2164\n",
      "\n",
      "Epoch 00006: val_loss improved from 0.22516 to 0.21645, saving model to glove_model\n"
     ]
    },
    {
     "name": "stderr",
     "output_type": "stream",
     "text": [
      "WARNING:absl:Found untraced functions such as lstm_cell_8_layer_call_fn, lstm_cell_8_layer_call_and_return_conditional_losses, lstm_cell_9_layer_call_fn, lstm_cell_9_layer_call_and_return_conditional_losses, lstm_cell_11_layer_call_fn while saving (showing 5 of 20). These functions will not be directly callable after loading.\n",
      "WARNING:absl:Found untraced functions such as lstm_cell_8_layer_call_fn, lstm_cell_8_layer_call_and_return_conditional_losses, lstm_cell_9_layer_call_fn, lstm_cell_9_layer_call_and_return_conditional_losses, lstm_cell_11_layer_call_fn while saving (showing 5 of 20). These functions will not be directly callable after loading.\n"
     ]
    },
    {
     "name": "stdout",
     "output_type": "stream",
     "text": [
      "INFO:tensorflow:Assets written to: glove_model/assets\n"
     ]
    },
    {
     "name": "stderr",
     "output_type": "stream",
     "text": [
      "INFO:tensorflow:Assets written to: glove_model/assets\n"
     ]
    },
    {
     "name": "stdout",
     "output_type": "stream",
     "text": [
      "Epoch 7/8\n",
      "267/267 [==============================] - 25s 92ms/step - loss: 0.1292 - categorical_crossentropy: 0.1292 - val_loss: 0.2262 - val_categorical_crossentropy: 0.2262\n",
      "\n",
      "Epoch 00007: val_loss did not improve from 0.21645\n",
      "Epoch 8/8\n",
      "267/267 [==============================] - 25s 94ms/step - loss: 0.1025 - categorical_crossentropy: 0.1025 - val_loss: 0.2240 - val_categorical_crossentropy: 0.2240\n",
      "\n",
      "Epoch 00008: val_loss did not improve from 0.21645\n"
     ]
    },
    {
     "data": {
      "text/plain": [
       "<tensorflow.python.keras.callbacks.History at 0x7f5a3e421240>"
      ]
     },
     "execution_count": 17,
     "metadata": {
      "tags": []
     },
     "output_type": "execute_result"
    }
   ],
   "source": [
    "batch_size = 32\n",
    "gmodel.fit(X, Y, epochs=8, batch_size=batch_size, validation_split=0.2, callbacks=[ckpt_callback2])"
   ]
  },
  {
   "cell_type": "code",
   "execution_count": null,
   "metadata": {
    "colab": {
     "base_uri": "https://localhost:8080/",
     "height": 587
    },
    "id": "LWHabIv2YYiX",
    "outputId": "f37fbf82-71c1-4310-8e41-2eb4adcc4564"
   },
   "outputs": [
    {
     "name": "stdout",
     "output_type": "stream",
     "text": [
      "Log loss: 0.23414311362559376\n",
      "Accuracy: 0.9198598642434859\n",
      "              precision    recall  f1-score   support\n",
      "\n",
      "           1       0.91      0.90      0.90      1379\n",
      "           2       0.96      0.97      0.97      1038\n",
      "           3       0.95      0.97      0.96      1612\n",
      "           4       0.77      0.71      0.74       538\n",
      "\n",
      "    accuracy                           0.92      4567\n",
      "   macro avg       0.90      0.89      0.89      4567\n",
      "weighted avg       0.92      0.92      0.92      4567\n",
      "\n"
     ]
    },
    {
     "name": "stderr",
     "output_type": "stream",
     "text": [
      "/usr/local/lib/python3.6/dist-packages/sklearn/utils/deprecation.py:87: FutureWarning: Function plot_confusion_matrix is deprecated; This will be removed in v0.4.0. Please use scikitplot.metrics.plot_confusion_matrix instead.\n",
      "  warnings.warn(msg, category=FutureWarning)\n"
     ]
    },
    {
     "data": {
      "text/plain": [
       "<matplotlib.axes._subplots.AxesSubplot at 0x7f5a7471a400>"
      ]
     },
     "execution_count": 18,
     "metadata": {
      "tags": []
     },
     "output_type": "execute_result"
    },
    {
     "data": {
      "image/png": "[encoded data removed]",
      "text/plain": [
       "<Figure size 432x288 with 2 Axes>"
      ]
     },
     "metadata": {
      "needs_background": "light",
      "tags": []
     },
     "output_type": "display_data"
    }
   ],
   "source": [
    "probas = gmodel.predict(x_test)\n",
    "pred_indices = np.argmax(probas, axis=1)\n",
    "classes = np.array(range(1, 5))\n",
    "preds = classes[pred_indices]\n",
    "print('Log loss: {}'.format(log_loss(classes[np.argmax(y_test, axis=1)], probas)))\n",
    "print('Accuracy: {}'.format(accuracy_score(classes[np.argmax(y_test, axis=1)], preds)))\n",
    "print(classification_report(classes[np.argmax(y_test, axis=1)], preds, labels=classes))\n",
    "skplt.plot_confusion_matrix(classes[np.argmax(y_test, axis=1)], preds)"
   ]
  },
  {
   "cell_type": "markdown",
   "metadata": {
    "id": "qobaiVvG5s0q"
   },
   "source": [
    "## Using doc2vec trained embeddings "
   ]
  },
  {
   "cell_type": "code",
   "execution_count": null,
   "metadata": {
    "id": "sKxtpFkP4RcU"
   },
   "outputs": [],
   "source": [
    "train_arr = np.load('traindoc2vec.npy')\n",
    "test_arr = np.load('testdoc2vec.npy')\n",
    "d2vmodel = gensim.models.Word2Vec.load('d2vmodel')"
   ]
  },
  {
   "cell_type": "code",
   "execution_count": null,
   "metadata": {
    "colab": {
     "base_uri": "https://localhost:8080/"
    },
    "id": "Dq0qy4rx1Ems",
    "outputId": "81f696bf-401e-4e78-9ec3-e450e488bbfa"
   },
   "outputs": [
    {
     "name": "stdout",
     "output_type": "stream",
     "text": [
      "(10655, 300) (4567, 300)\n"
     ]
    }
   ],
   "source": [
    "print(train_arr.shape,test_arr.shape)"
   ]
  },
  {
   "cell_type": "code",
   "execution_count": null,
   "metadata": {
    "id": "8xarxla5CbbR"
   },
   "outputs": [],
   "source": [
    "y = pd.get_dummies(df_train['Label']).values"
   ]
  },
  {
   "cell_type": "code",
   "execution_count": null,
   "metadata": {
    "id": "E5J3foLdKwpi"
   },
   "outputs": [],
   "source": [
    "y_test = pd.get_dummies(df_test['Label']).values"
   ]
  },
  {
   "cell_type": "code",
   "execution_count": null,
   "metadata": {
    "id": "hb5Xt9n1E4es"
   },
   "outputs": [],
   "source": [
    "def base_model(input_dim=300):\n",
    "    model = Sequential()\n",
    "    model.add(Dense(256,input_dim=input_dim,activation='relu'))\n",
    "    model.add(Dropout(0.3))\n",
    "    model.add(Dense(256, activation='relu'))\n",
    "    model.add(Dropout(0.5))\n",
    "    model.add(Dense(80, activation='relu'))\n",
    "    model.add(Dense(4, activation=\"softmax\"))\n",
    "    sgd = SGD(lr=0.01, decay=1e-6, momentum=0.9, nesterov=True)  \n",
    "    model.compile(loss='categorical_crossentropy', optimizer=sgd, metrics=['accuracy','categorical_crossentropy'])\n",
    "    return model\n",
    "\n",
    "ckpt_callback_1 = ModelCheckpoint('keras_model_d2v', \n",
    "                                 monitor='val_loss', \n",
    "                                 verbose=1, \n",
    "                                 save_best_only=True, \n",
    "                                 mode='auto')"
   ]
  },
  {
   "cell_type": "code",
   "execution_count": null,
   "metadata": {
    "colab": {
     "base_uri": "https://localhost:8080/"
    },
    "id": "n84OQ4C1Iz3d",
    "outputId": "b8cce7a7-66e1-4e00-c276-346c050cfd93"
   },
   "outputs": [
    {
     "name": "stdout",
     "output_type": "stream",
     "text": [
      "Model: \"sequential_1\"\n",
      "_________________________________________________________________\n",
      "Layer (type)                 Output Shape              Param #   \n",
      "=================================================================\n",
      "dense (Dense)                (None, 256)               77056     \n",
      "_________________________________________________________________\n",
      "dropout (Dropout)            (None, 256)               0         \n",
      "_________________________________________________________________\n",
      "dense_1 (Dense)              (None, 256)               65792     \n",
      "_________________________________________________________________\n",
      "dropout_1 (Dropout)          (None, 256)               0         \n",
      "_________________________________________________________________\n",
      "dense_2 (Dense)              (None, 80)                20560     \n",
      "_________________________________________________________________\n",
      "dense_3 (Dense)              (None, 4)                 324       \n",
      "=================================================================\n",
      "Total params: 163,732\n",
      "Trainable params: 163,732\n",
      "Non-trainable params: 0\n",
      "_________________________________________________________________\n"
     ]
    }
   ],
   "source": [
    "model_d2v = base_model()\n",
    "model_d2v.summary()"
   ]
  },
  {
   "cell_type": "code",
   "execution_count": null,
   "metadata": {
    "colab": {
     "base_uri": "https://localhost:8080/"
    },
    "id": "9aEqXjlRJCjB",
    "outputId": "cc3b217a-924b-46c2-a2b7-33304364f00c"
   },
   "outputs": [
    {
     "name": "stdout",
     "output_type": "stream",
     "text": [
      "Epoch 1/20\n",
      "267/267 [==============================] - 1s 3ms/step - loss: 0.5989 - accuracy: 0.7672 - categorical_crossentropy: 0.5989 - val_loss: 0.5429 - val_accuracy: 0.7949 - val_categorical_crossentropy: 0.5429\n",
      "\n",
      "Epoch 00001: val_loss improved from 0.55236 to 0.54294, saving model to keras_model_d2v\n",
      "INFO:tensorflow:Assets written to: keras_model_d2v/assets\n",
      "Epoch 2/20\n",
      "267/267 [==============================] - 1s 3ms/step - loss: 0.5891 - accuracy: 0.7744 - categorical_crossentropy: 0.5891 - val_loss: 0.5304 - val_accuracy: 0.7912 - val_categorical_crossentropy: 0.5304\n",
      "\n",
      "Epoch 00002: val_loss improved from 0.54294 to 0.53038, saving model to keras_model_d2v\n",
      "INFO:tensorflow:Assets written to: keras_model_d2v/assets\n",
      "Epoch 3/20\n",
      "267/267 [==============================] - 1s 3ms/step - loss: 0.5792 - accuracy: 0.7782 - categorical_crossentropy: 0.5792 - val_loss: 0.5083 - val_accuracy: 0.8038 - val_categorical_crossentropy: 0.5083\n",
      "\n",
      "Epoch 00003: val_loss improved from 0.53038 to 0.50832, saving model to keras_model_d2v\n",
      "INFO:tensorflow:Assets written to: keras_model_d2v/assets\n",
      "Epoch 4/20\n",
      "267/267 [==============================] - 1s 3ms/step - loss: 0.5656 - accuracy: 0.7818 - categorical_crossentropy: 0.5656 - val_loss: 0.5175 - val_accuracy: 0.8043 - val_categorical_crossentropy: 0.5175\n",
      "\n",
      "Epoch 00004: val_loss did not improve from 0.50832\n",
      "Epoch 5/20\n",
      "267/267 [==============================] - 1s 3ms/step - loss: 0.5687 - accuracy: 0.7793 - categorical_crossentropy: 0.5687 - val_loss: 0.5128 - val_accuracy: 0.8057 - val_categorical_crossentropy: 0.5128\n",
      "\n",
      "Epoch 00005: val_loss did not improve from 0.50832\n",
      "Epoch 6/20\n",
      "267/267 [==============================] - 1s 3ms/step - loss: 0.5580 - accuracy: 0.7853 - categorical_crossentropy: 0.5580 - val_loss: 0.5110 - val_accuracy: 0.8043 - val_categorical_crossentropy: 0.5110\n",
      "\n",
      "Epoch 00006: val_loss did not improve from 0.50832\n",
      "Epoch 7/20\n",
      "267/267 [==============================] - 1s 3ms/step - loss: 0.5431 - accuracy: 0.7877 - categorical_crossentropy: 0.5431 - val_loss: 0.4987 - val_accuracy: 0.8076 - val_categorical_crossentropy: 0.4987\n",
      "\n",
      "Epoch 00007: val_loss improved from 0.50832 to 0.49867, saving model to keras_model_d2v\n",
      "INFO:tensorflow:Assets written to: keras_model_d2v/assets\n",
      "Epoch 8/20\n",
      "267/267 [==============================] - 1s 3ms/step - loss: 0.5449 - accuracy: 0.7931 - categorical_crossentropy: 0.5449 - val_loss: 0.5045 - val_accuracy: 0.8020 - val_categorical_crossentropy: 0.5045\n",
      "\n",
      "Epoch 00008: val_loss did not improve from 0.49867\n",
      "Epoch 9/20\n",
      "267/267 [==============================] - 1s 3ms/step - loss: 0.5376 - accuracy: 0.7925 - categorical_crossentropy: 0.5376 - val_loss: 0.5071 - val_accuracy: 0.8053 - val_categorical_crossentropy: 0.5071\n",
      "\n",
      "Epoch 00009: val_loss did not improve from 0.49867\n",
      "Epoch 10/20\n",
      "267/267 [==============================] - 1s 3ms/step - loss: 0.5340 - accuracy: 0.7986 - categorical_crossentropy: 0.5340 - val_loss: 0.4951 - val_accuracy: 0.8076 - val_categorical_crossentropy: 0.4951\n",
      "\n",
      "Epoch 00010: val_loss improved from 0.49867 to 0.49512, saving model to keras_model_d2v\n",
      "INFO:tensorflow:Assets written to: keras_model_d2v/assets\n",
      "Epoch 11/20\n",
      "267/267 [==============================] - 1s 3ms/step - loss: 0.5376 - accuracy: 0.7934 - categorical_crossentropy: 0.5376 - val_loss: 0.4920 - val_accuracy: 0.8114 - val_categorical_crossentropy: 0.4920\n",
      "\n",
      "Epoch 00011: val_loss improved from 0.49512 to 0.49201, saving model to keras_model_d2v\n",
      "INFO:tensorflow:Assets written to: keras_model_d2v/assets\n",
      "Epoch 12/20\n",
      "267/267 [==============================] - 1s 3ms/step - loss: 0.5319 - accuracy: 0.7977 - categorical_crossentropy: 0.5319 - val_loss: 0.4914 - val_accuracy: 0.8137 - val_categorical_crossentropy: 0.4914\n",
      "\n",
      "Epoch 00012: val_loss improved from 0.49201 to 0.49145, saving model to keras_model_d2v\n",
      "INFO:tensorflow:Assets written to: keras_model_d2v/assets\n",
      "Epoch 13/20\n",
      "267/267 [==============================] - 1s 3ms/step - loss: 0.5298 - accuracy: 0.7972 - categorical_crossentropy: 0.5298 - val_loss: 0.4997 - val_accuracy: 0.8114 - val_categorical_crossentropy: 0.4997\n",
      "\n",
      "Epoch 00013: val_loss did not improve from 0.49145\n",
      "Epoch 14/20\n",
      "267/267 [==============================] - 1s 3ms/step - loss: 0.5238 - accuracy: 0.7965 - categorical_crossentropy: 0.5238 - val_loss: 0.4785 - val_accuracy: 0.8207 - val_categorical_crossentropy: 0.4785\n",
      "\n",
      "Epoch 00014: val_loss improved from 0.49145 to 0.47848, saving model to keras_model_d2v\n",
      "INFO:tensorflow:Assets written to: keras_model_d2v/assets\n",
      "Epoch 15/20\n",
      "267/267 [==============================] - 1s 3ms/step - loss: 0.5150 - accuracy: 0.8016 - categorical_crossentropy: 0.5150 - val_loss: 0.4816 - val_accuracy: 0.8160 - val_categorical_crossentropy: 0.4816\n",
      "\n",
      "Epoch 00015: val_loss did not improve from 0.47848\n",
      "Epoch 16/20\n",
      "267/267 [==============================] - 1s 3ms/step - loss: 0.5151 - accuracy: 0.7996 - categorical_crossentropy: 0.5151 - val_loss: 0.4716 - val_accuracy: 0.8245 - val_categorical_crossentropy: 0.4716\n",
      "\n",
      "Epoch 00016: val_loss improved from 0.47848 to 0.47163, saving model to keras_model_d2v\n",
      "INFO:tensorflow:Assets written to: keras_model_d2v/assets\n",
      "Epoch 17/20\n",
      "267/267 [==============================] - 1s 3ms/step - loss: 0.5099 - accuracy: 0.8031 - categorical_crossentropy: 0.5099 - val_loss: 0.4764 - val_accuracy: 0.8231 - val_categorical_crossentropy: 0.4764\n",
      "\n",
      "Epoch 00017: val_loss did not improve from 0.47163\n",
      "Epoch 18/20\n",
      "267/267 [==============================] - 1s 3ms/step - loss: 0.5096 - accuracy: 0.8004 - categorical_crossentropy: 0.5096 - val_loss: 0.4737 - val_accuracy: 0.8165 - val_categorical_crossentropy: 0.4737\n",
      "\n",
      "Epoch 00018: val_loss did not improve from 0.47163\n",
      "Epoch 19/20\n",
      "267/267 [==============================] - 1s 3ms/step - loss: 0.5094 - accuracy: 0.8085 - categorical_crossentropy: 0.5094 - val_loss: 0.4750 - val_accuracy: 0.8175 - val_categorical_crossentropy: 0.4750\n",
      "\n",
      "Epoch 00019: val_loss did not improve from 0.47163\n",
      "Epoch 20/20\n",
      "267/267 [==============================] - 1s 3ms/step - loss: 0.5021 - accuracy: 0.8053 - categorical_crossentropy: 0.5021 - val_loss: 0.4737 - val_accuracy: 0.8193 - val_categorical_crossentropy: 0.4737\n",
      "\n",
      "Epoch 00020: val_loss did not improve from 0.47163\n"
     ]
    }
   ],
   "source": [
    "estimator=model_d2v.fit(train_arr, y, validation_split=0.2, epochs=20, batch_size=32,callbacks=[ckpt_callback_1])"
   ]
  },
  {
   "cell_type": "markdown",
   "metadata": {
    "id": "9eSP_hrVLo4Y"
   },
   "source": [
    "On test dataset"
   ]
  },
  {
   "cell_type": "code",
   "execution_count": null,
   "metadata": {
    "colab": {
     "base_uri": "https://localhost:8080/",
     "height": 587
    },
    "id": "lQNicSvbKFE8",
    "outputId": "4225f4a8-374f-4010-f3a7-1b19833996d5"
   },
   "outputs": [
    {
     "name": "stdout",
     "output_type": "stream",
     "text": [
      "Log loss: 0.49827545878656987\n",
      "Accuracy: 0.8031530545215678\n",
      "              precision    recall  f1-score   support\n",
      "\n",
      "           1       0.74      0.90      0.81      1379\n",
      "           2       0.89      0.89      0.89      1038\n",
      "           3       0.83      0.80      0.82      1612\n",
      "           4       0.68      0.38      0.49       538\n",
      "\n",
      "    accuracy                           0.80      4567\n",
      "   macro avg       0.79      0.74      0.75      4567\n",
      "weighted avg       0.80      0.80      0.79      4567\n",
      "\n"
     ]
    },
    {
     "name": "stderr",
     "output_type": "stream",
     "text": [
      "/usr/local/lib/python3.6/dist-packages/sklearn/utils/deprecation.py:87: FutureWarning: Function plot_confusion_matrix is deprecated; This will be removed in v0.4.0. Please use scikitplot.metrics.plot_confusion_matrix instead.\n",
      "  warnings.warn(msg, category=FutureWarning)\n"
     ]
    },
    {
     "data": {
      "text/plain": [
       "<matplotlib.axes._subplots.AxesSubplot at 0x7f703c7e9a90>"
      ]
     },
     "execution_count": 39,
     "metadata": {
      "tags": []
     },
     "output_type": "execute_result"
    },
    {
     "data": {
      "image/png": "[encoded data removed]",
      "text/plain": [
       "<Figure size 432x288 with 2 Axes>"
      ]
     },
     "metadata": {
      "needs_background": "light",
      "tags": []
     },
     "output_type": "display_data"
    }
   ],
   "source": [
    "probas = model_d2v.predict(test_arr)\n",
    "pred_indices = np.argmax(probas, axis=1)\n",
    "classes = np.array(range(1, 5))\n",
    "preds = classes[pred_indices]\n",
    "print('Log loss: {}'.format(log_loss(classes[np.argmax(y_test, axis=1)], probas)))\n",
    "print('Accuracy: {}'.format(accuracy_score(classes[np.argmax(y_test, axis=1)], preds)))\n",
    "print(classification_report(classes[np.argmax(y_test, axis=1)], preds, labels=classes))\n",
    "skplt.plot_confusion_matrix(classes[np.argmax(y_test, axis=1)], preds)"
   ]
  },
  {
   "cell_type": "code",
   "execution_count": null,
   "metadata": {
    "id": "QiYJH9o0Kpp_"
   },
   "outputs": [],
   "source": [
    "def lstm_model(input_dim=300):\n",
    "    lstm_out = 350\n",
    "    model = Sequential()\n",
    "    model.add(LSTM(lstm_out,return_sequences=True, dropout=0.6, input_shape=(1, input_dim)))\n",
    "    model.add(Dropout(0.8))\n",
    "    model.add(Dense(10, activation='relu'))\n",
    "    model.add(Dense(10, activation='relu'))\n",
    "#   model.add(Dropout(0.08))\n",
    "#   model.add(Flatten())\n",
    "    model.add(Dense(4, activation=\"softmax\"))\n",
    "#   sgd = SGD(lr=0.01, decay=1e-6, momentum=0.9, nesterov=True)     \n",
    "    adam = Adam(lr=0.001, beta_1=0.9, beta_2=0.999, epsilon=1e-08, decay=0.0)\n",
    "    model.compile(loss = 'categorical_crossentropy', optimizer='adam', metrics = ['accuracy'])\n",
    "    return model\n",
    "\n",
    "ckpt_callback_2 = ModelCheckpoint('keras_model_d2v_new', \n",
    "                                 monitor='val_loss', \n",
    "                                 verbose=1, \n",
    "                                 save_best_only=True, \n",
    "                                 mode='auto')"
   ]
  },
  {
   "cell_type": "code",
   "execution_count": null,
   "metadata": {
    "id": "UWNIY2aiSrK_"
   },
   "outputs": [],
   "source": [
    "train_arr_lstm = np.reshape(train_arr,(train_arr.shape[0],1,train_arr.shape[1]))\n",
    "test_arr_lstm = np.reshape(test_arr,(test_arr.shape[0],1,test_arr.shape[1]))"
   ]
  },
  {
   "cell_type": "code",
   "execution_count": null,
   "metadata": {
    "colab": {
     "base_uri": "https://localhost:8080/"
    },
    "id": "YUaDhUuCTWND",
    "outputId": "9f25618e-f233-48bb-dd25-a1ac5b31403c"
   },
   "outputs": [
    {
     "name": "stdout",
     "output_type": "stream",
     "text": [
      "(10655, 1, 300) (4567, 1, 300)\n"
     ]
    }
   ],
   "source": [
    "print(train_arr_lstm.shape,test_arr_lstm.shape)"
   ]
  },
  {
   "cell_type": "code",
   "execution_count": null,
   "metadata": {
    "colab": {
     "base_uri": "https://localhost:8080/"
    },
    "id": "JzprPmlETbTb",
    "outputId": "4e06d503-6df7-48f3-d813-cccbd3fb870c"
   },
   "outputs": [
    {
     "name": "stdout",
     "output_type": "stream",
     "text": [
      "Model: \"sequential_5\"\n",
      "_________________________________________________________________\n",
      "Layer (type)                 Output Shape              Param #   \n",
      "=================================================================\n",
      "lstm_3 (LSTM)                (None, 1, 350)            911400    \n",
      "_________________________________________________________________\n",
      "dropout_4 (Dropout)          (None, 1, 350)            0         \n",
      "_________________________________________________________________\n",
      "dense_11 (Dense)             (None, 1, 10)             3510      \n",
      "_________________________________________________________________\n",
      "dense_12 (Dense)             (None, 1, 10)             110       \n",
      "_________________________________________________________________\n",
      "dense_13 (Dense)             (None, 1, 4)              44        \n",
      "=================================================================\n",
      "Total params: 915,064\n",
      "Trainable params: 915,064\n",
      "Non-trainable params: 0\n",
      "_________________________________________________________________\n"
     ]
    }
   ],
   "source": [
    "d2v_model_lstm = lstm_model()\n",
    "d2v_model_lstm.summary()"
   ]
  },
  {
   "cell_type": "code",
   "execution_count": null,
   "metadata": {
    "id": "H-394VwUTwuK"
   },
   "outputs": [],
   "source": [
    "y_lstm = np.reshape(y,(y.shape[0],1,y.shape[1]))\n",
    "y_test"
   ]
  },
  {
   "cell_type": "code",
   "execution_count": null,
   "metadata": {
    "colab": {
     "base_uri": "https://localhost:8080/"
    },
    "id": "prm6COa1T63O",
    "outputId": "f70fa1ea-dab1-45c6-b221-59cc7ebf6de7"
   },
   "outputs": [
    {
     "name": "stdout",
     "output_type": "stream",
     "text": [
      "Epoch 1/20\n",
      "267/267 [==============================] - 3s 11ms/step - loss: 0.6621 - accuracy: 0.7459 - val_loss: 0.5757 - val_accuracy: 0.7724\n",
      "\n",
      "Epoch 00001: val_loss improved from 0.58950 to 0.57565, saving model to keras_model_d2v_new\n"
     ]
    },
    {
     "name": "stderr",
     "output_type": "stream",
     "text": [
      "WARNING:absl:Found untraced functions such as lstm_cell_4_layer_call_fn, lstm_cell_4_layer_call_and_return_conditional_losses, lstm_cell_4_layer_call_fn, lstm_cell_4_layer_call_and_return_conditional_losses, lstm_cell_4_layer_call_and_return_conditional_losses while saving (showing 5 of 5). These functions will not be directly callable after loading.\n",
      "WARNING:absl:Found untraced functions such as lstm_cell_4_layer_call_fn, lstm_cell_4_layer_call_and_return_conditional_losses, lstm_cell_4_layer_call_fn, lstm_cell_4_layer_call_and_return_conditional_losses, lstm_cell_4_layer_call_and_return_conditional_losses while saving (showing 5 of 5). These functions will not be directly callable after loading.\n"
     ]
    },
    {
     "name": "stdout",
     "output_type": "stream",
     "text": [
      "INFO:tensorflow:Assets written to: keras_model_d2v_new/assets\n"
     ]
    },
    {
     "name": "stderr",
     "output_type": "stream",
     "text": [
      "INFO:tensorflow:Assets written to: keras_model_d2v_new/assets\n"
     ]
    },
    {
     "name": "stdout",
     "output_type": "stream",
     "text": [
      "Epoch 2/20\n",
      "267/267 [==============================] - 3s 11ms/step - loss: 0.6539 - accuracy: 0.7464 - val_loss: 0.5738 - val_accuracy: 0.7757\n",
      "\n",
      "Epoch 00002: val_loss improved from 0.57565 to 0.57382, saving model to keras_model_d2v_new\n"
     ]
    },
    {
     "name": "stderr",
     "output_type": "stream",
     "text": [
      "WARNING:absl:Found untraced functions such as lstm_cell_4_layer_call_fn, lstm_cell_4_layer_call_and_return_conditional_losses, lstm_cell_4_layer_call_fn, lstm_cell_4_layer_call_and_return_conditional_losses, lstm_cell_4_layer_call_and_return_conditional_losses while saving (showing 5 of 5). These functions will not be directly callable after loading.\n",
      "WARNING:absl:Found untraced functions such as lstm_cell_4_layer_call_fn, lstm_cell_4_layer_call_and_return_conditional_losses, lstm_cell_4_layer_call_fn, lstm_cell_4_layer_call_and_return_conditional_losses, lstm_cell_4_layer_call_and_return_conditional_losses while saving (showing 5 of 5). These functions will not be directly callable after loading.\n"
     ]
    },
    {
     "name": "stdout",
     "output_type": "stream",
     "text": [
      "INFO:tensorflow:Assets written to: keras_model_d2v_new/assets\n"
     ]
    },
    {
     "name": "stderr",
     "output_type": "stream",
     "text": [
      "INFO:tensorflow:Assets written to: keras_model_d2v_new/assets\n"
     ]
    },
    {
     "name": "stdout",
     "output_type": "stream",
     "text": [
      "Epoch 3/20\n",
      "267/267 [==============================] - 3s 13ms/step - loss: 0.6487 - accuracy: 0.7443 - val_loss: 0.5619 - val_accuracy: 0.7738\n",
      "\n",
      "Epoch 00003: val_loss improved from 0.57382 to 0.56195, saving model to keras_model_d2v_new\n"
     ]
    },
    {
     "name": "stderr",
     "output_type": "stream",
     "text": [
      "WARNING:absl:Found untraced functions such as lstm_cell_4_layer_call_fn, lstm_cell_4_layer_call_and_return_conditional_losses, lstm_cell_4_layer_call_fn, lstm_cell_4_layer_call_and_return_conditional_losses, lstm_cell_4_layer_call_and_return_conditional_losses while saving (showing 5 of 5). These functions will not be directly callable after loading.\n",
      "WARNING:absl:Found untraced functions such as lstm_cell_4_layer_call_fn, lstm_cell_4_layer_call_and_return_conditional_losses, lstm_cell_4_layer_call_fn, lstm_cell_4_layer_call_and_return_conditional_losses, lstm_cell_4_layer_call_and_return_conditional_losses while saving (showing 5 of 5). These functions will not be directly callable after loading.\n"
     ]
    },
    {
     "name": "stdout",
     "output_type": "stream",
     "text": [
      "INFO:tensorflow:Assets written to: keras_model_d2v_new/assets\n"
     ]
    },
    {
     "name": "stderr",
     "output_type": "stream",
     "text": [
      "INFO:tensorflow:Assets written to: keras_model_d2v_new/assets\n"
     ]
    },
    {
     "name": "stdout",
     "output_type": "stream",
     "text": [
      "Epoch 4/20\n",
      "267/267 [==============================] - 3s 11ms/step - loss: 0.6443 - accuracy: 0.7484 - val_loss: 0.5678 - val_accuracy: 0.7785\n",
      "\n",
      "Epoch 00004: val_loss did not improve from 0.56195\n",
      "Epoch 5/20\n",
      "267/267 [==============================] - 3s 11ms/step - loss: 0.6370 - accuracy: 0.7522 - val_loss: 0.5588 - val_accuracy: 0.7743\n",
      "\n",
      "Epoch 00005: val_loss improved from 0.56195 to 0.55882, saving model to keras_model_d2v_new\n"
     ]
    },
    {
     "name": "stderr",
     "output_type": "stream",
     "text": [
      "WARNING:absl:Found untraced functions such as lstm_cell_4_layer_call_fn, lstm_cell_4_layer_call_and_return_conditional_losses, lstm_cell_4_layer_call_fn, lstm_cell_4_layer_call_and_return_conditional_losses, lstm_cell_4_layer_call_and_return_conditional_losses while saving (showing 5 of 5). These functions will not be directly callable after loading.\n",
      "WARNING:absl:Found untraced functions such as lstm_cell_4_layer_call_fn, lstm_cell_4_layer_call_and_return_conditional_losses, lstm_cell_4_layer_call_fn, lstm_cell_4_layer_call_and_return_conditional_losses, lstm_cell_4_layer_call_and_return_conditional_losses while saving (showing 5 of 5). These functions will not be directly callable after loading.\n"
     ]
    },
    {
     "name": "stdout",
     "output_type": "stream",
     "text": [
      "INFO:tensorflow:Assets written to: keras_model_d2v_new/assets\n"
     ]
    },
    {
     "name": "stderr",
     "output_type": "stream",
     "text": [
      "INFO:tensorflow:Assets written to: keras_model_d2v_new/assets\n"
     ]
    },
    {
     "name": "stdout",
     "output_type": "stream",
     "text": [
      "Epoch 6/20\n",
      "267/267 [==============================] - 3s 11ms/step - loss: 0.6289 - accuracy: 0.7526 - val_loss: 0.5602 - val_accuracy: 0.7790\n",
      "\n",
      "Epoch 00006: val_loss did not improve from 0.55882\n",
      "Epoch 7/20\n",
      "267/267 [==============================] - 3s 11ms/step - loss: 0.6338 - accuracy: 0.7516 - val_loss: 0.5473 - val_accuracy: 0.7776\n",
      "\n",
      "Epoch 00007: val_loss improved from 0.55882 to 0.54730, saving model to keras_model_d2v_new\n"
     ]
    },
    {
     "name": "stderr",
     "output_type": "stream",
     "text": [
      "WARNING:absl:Found untraced functions such as lstm_cell_4_layer_call_fn, lstm_cell_4_layer_call_and_return_conditional_losses, lstm_cell_4_layer_call_fn, lstm_cell_4_layer_call_and_return_conditional_losses, lstm_cell_4_layer_call_and_return_conditional_losses while saving (showing 5 of 5). These functions will not be directly callable after loading.\n",
      "WARNING:absl:Found untraced functions such as lstm_cell_4_layer_call_fn, lstm_cell_4_layer_call_and_return_conditional_losses, lstm_cell_4_layer_call_fn, lstm_cell_4_layer_call_and_return_conditional_losses, lstm_cell_4_layer_call_and_return_conditional_losses while saving (showing 5 of 5). These functions will not be directly callable after loading.\n"
     ]
    },
    {
     "name": "stdout",
     "output_type": "stream",
     "text": [
      "INFO:tensorflow:Assets written to: keras_model_d2v_new/assets\n"
     ]
    },
    {
     "name": "stderr",
     "output_type": "stream",
     "text": [
      "INFO:tensorflow:Assets written to: keras_model_d2v_new/assets\n"
     ]
    },
    {
     "name": "stdout",
     "output_type": "stream",
     "text": [
      "Epoch 8/20\n",
      "267/267 [==============================] - 3s 11ms/step - loss: 0.6304 - accuracy: 0.7528 - val_loss: 0.5491 - val_accuracy: 0.7804\n",
      "\n",
      "Epoch 00008: val_loss did not improve from 0.54730\n",
      "Epoch 9/20\n",
      "267/267 [==============================] - 3s 11ms/step - loss: 0.6226 - accuracy: 0.7611 - val_loss: 0.5508 - val_accuracy: 0.7860\n",
      "\n",
      "Epoch 00009: val_loss did not improve from 0.54730\n",
      "Epoch 10/20\n",
      "267/267 [==============================] - 3s 11ms/step - loss: 0.6228 - accuracy: 0.7535 - val_loss: 0.5468 - val_accuracy: 0.7823\n",
      "\n",
      "Epoch 00010: val_loss improved from 0.54730 to 0.54679, saving model to keras_model_d2v_new\n"
     ]
    },
    {
     "name": "stderr",
     "output_type": "stream",
     "text": [
      "WARNING:absl:Found untraced functions such as lstm_cell_4_layer_call_fn, lstm_cell_4_layer_call_and_return_conditional_losses, lstm_cell_4_layer_call_fn, lstm_cell_4_layer_call_and_return_conditional_losses, lstm_cell_4_layer_call_and_return_conditional_losses while saving (showing 5 of 5). These functions will not be directly callable after loading.\n",
      "WARNING:absl:Found untraced functions such as lstm_cell_4_layer_call_fn, lstm_cell_4_layer_call_and_return_conditional_losses, lstm_cell_4_layer_call_fn, lstm_cell_4_layer_call_and_return_conditional_losses, lstm_cell_4_layer_call_and_return_conditional_losses while saving (showing 5 of 5). These functions will not be directly callable after loading.\n"
     ]
    },
    {
     "name": "stdout",
     "output_type": "stream",
     "text": [
      "INFO:tensorflow:Assets written to: keras_model_d2v_new/assets\n"
     ]
    },
    {
     "name": "stderr",
     "output_type": "stream",
     "text": [
      "INFO:tensorflow:Assets written to: keras_model_d2v_new/assets\n"
     ]
    },
    {
     "name": "stdout",
     "output_type": "stream",
     "text": [
      "Epoch 11/20\n",
      "267/267 [==============================] - 3s 11ms/step - loss: 0.6291 - accuracy: 0.7553 - val_loss: 0.5485 - val_accuracy: 0.7870\n",
      "\n",
      "Epoch 00011: val_loss did not improve from 0.54679\n",
      "Epoch 12/20\n",
      "267/267 [==============================] - 3s 11ms/step - loss: 0.6238 - accuracy: 0.7586 - val_loss: 0.5419 - val_accuracy: 0.7823\n",
      "\n",
      "Epoch 00012: val_loss improved from 0.54679 to 0.54189, saving model to keras_model_d2v_new\n"
     ]
    },
    {
     "name": "stderr",
     "output_type": "stream",
     "text": [
      "WARNING:absl:Found untraced functions such as lstm_cell_4_layer_call_fn, lstm_cell_4_layer_call_and_return_conditional_losses, lstm_cell_4_layer_call_fn, lstm_cell_4_layer_call_and_return_conditional_losses, lstm_cell_4_layer_call_and_return_conditional_losses while saving (showing 5 of 5). These functions will not be directly callable after loading.\n",
      "WARNING:absl:Found untraced functions such as lstm_cell_4_layer_call_fn, lstm_cell_4_layer_call_and_return_conditional_losses, lstm_cell_4_layer_call_fn, lstm_cell_4_layer_call_and_return_conditional_losses, lstm_cell_4_layer_call_and_return_conditional_losses while saving (showing 5 of 5). These functions will not be directly callable after loading.\n"
     ]
    },
    {
     "name": "stdout",
     "output_type": "stream",
     "text": [
      "INFO:tensorflow:Assets written to: keras_model_d2v_new/assets\n"
     ]
    },
    {
     "name": "stderr",
     "output_type": "stream",
     "text": [
      "INFO:tensorflow:Assets written to: keras_model_d2v_new/assets\n"
     ]
    },
    {
     "name": "stdout",
     "output_type": "stream",
     "text": [
      "Epoch 13/20\n",
      "267/267 [==============================] - 3s 11ms/step - loss: 0.6249 - accuracy: 0.7580 - val_loss: 0.5428 - val_accuracy: 0.7870\n",
      "\n",
      "Epoch 00013: val_loss did not improve from 0.54189\n",
      "Epoch 14/20\n",
      "267/267 [==============================] - 3s 11ms/step - loss: 0.6207 - accuracy: 0.7569 - val_loss: 0.5440 - val_accuracy: 0.7823\n",
      "\n",
      "Epoch 00014: val_loss did not improve from 0.54189\n",
      "Epoch 15/20\n",
      "267/267 [==============================] - 3s 11ms/step - loss: 0.6120 - accuracy: 0.7586 - val_loss: 0.5435 - val_accuracy: 0.7865\n",
      "\n",
      "Epoch 00015: val_loss did not improve from 0.54189\n",
      "Epoch 16/20\n",
      "267/267 [==============================] - 3s 11ms/step - loss: 0.6158 - accuracy: 0.7572 - val_loss: 0.5358 - val_accuracy: 0.7874\n",
      "\n",
      "Epoch 00016: val_loss improved from 0.54189 to 0.53581, saving model to keras_model_d2v_new\n"
     ]
    },
    {
     "name": "stderr",
     "output_type": "stream",
     "text": [
      "WARNING:absl:Found untraced functions such as lstm_cell_4_layer_call_fn, lstm_cell_4_layer_call_and_return_conditional_losses, lstm_cell_4_layer_call_fn, lstm_cell_4_layer_call_and_return_conditional_losses, lstm_cell_4_layer_call_and_return_conditional_losses while saving (showing 5 of 5). These functions will not be directly callable after loading.\n",
      "WARNING:absl:Found untraced functions such as lstm_cell_4_layer_call_fn, lstm_cell_4_layer_call_and_return_conditional_losses, lstm_cell_4_layer_call_fn, lstm_cell_4_layer_call_and_return_conditional_losses, lstm_cell_4_layer_call_and_return_conditional_losses while saving (showing 5 of 5). These functions will not be directly callable after loading.\n"
     ]
    },
    {
     "name": "stdout",
     "output_type": "stream",
     "text": [
      "INFO:tensorflow:Assets written to: keras_model_d2v_new/assets\n"
     ]
    },
    {
     "name": "stderr",
     "output_type": "stream",
     "text": [
      "INFO:tensorflow:Assets written to: keras_model_d2v_new/assets\n"
     ]
    },
    {
     "name": "stdout",
     "output_type": "stream",
     "text": [
      "Epoch 17/20\n",
      "267/267 [==============================] - 3s 11ms/step - loss: 0.6167 - accuracy: 0.7582 - val_loss: 0.5352 - val_accuracy: 0.7912\n",
      "\n",
      "Epoch 00017: val_loss improved from 0.53581 to 0.53520, saving model to keras_model_d2v_new\n"
     ]
    },
    {
     "name": "stderr",
     "output_type": "stream",
     "text": [
      "WARNING:absl:Found untraced functions such as lstm_cell_4_layer_call_fn, lstm_cell_4_layer_call_and_return_conditional_losses, lstm_cell_4_layer_call_fn, lstm_cell_4_layer_call_and_return_conditional_losses, lstm_cell_4_layer_call_and_return_conditional_losses while saving (showing 5 of 5). These functions will not be directly callable after loading.\n",
      "WARNING:absl:Found untraced functions such as lstm_cell_4_layer_call_fn, lstm_cell_4_layer_call_and_return_conditional_losses, lstm_cell_4_layer_call_fn, lstm_cell_4_layer_call_and_return_conditional_losses, lstm_cell_4_layer_call_and_return_conditional_losses while saving (showing 5 of 5). These functions will not be directly callable after loading.\n"
     ]
    },
    {
     "name": "stdout",
     "output_type": "stream",
     "text": [
      "INFO:tensorflow:Assets written to: keras_model_d2v_new/assets\n"
     ]
    },
    {
     "name": "stderr",
     "output_type": "stream",
     "text": [
      "INFO:tensorflow:Assets written to: keras_model_d2v_new/assets\n"
     ]
    },
    {
     "name": "stdout",
     "output_type": "stream",
     "text": [
      "Epoch 18/20\n",
      "267/267 [==============================] - 3s 11ms/step - loss: 0.6128 - accuracy: 0.7601 - val_loss: 0.5344 - val_accuracy: 0.7884\n",
      "\n",
      "Epoch 00018: val_loss improved from 0.53520 to 0.53437, saving model to keras_model_d2v_new\n"
     ]
    },
    {
     "name": "stderr",
     "output_type": "stream",
     "text": [
      "WARNING:absl:Found untraced functions such as lstm_cell_4_layer_call_fn, lstm_cell_4_layer_call_and_return_conditional_losses, lstm_cell_4_layer_call_fn, lstm_cell_4_layer_call_and_return_conditional_losses, lstm_cell_4_layer_call_and_return_conditional_losses while saving (showing 5 of 5). These functions will not be directly callable after loading.\n",
      "WARNING:absl:Found untraced functions such as lstm_cell_4_layer_call_fn, lstm_cell_4_layer_call_and_return_conditional_losses, lstm_cell_4_layer_call_fn, lstm_cell_4_layer_call_and_return_conditional_losses, lstm_cell_4_layer_call_and_return_conditional_losses while saving (showing 5 of 5). These functions will not be directly callable after loading.\n"
     ]
    },
    {
     "name": "stdout",
     "output_type": "stream",
     "text": [
      "INFO:tensorflow:Assets written to: keras_model_d2v_new/assets\n"
     ]
    },
    {
     "name": "stderr",
     "output_type": "stream",
     "text": [
      "INFO:tensorflow:Assets written to: keras_model_d2v_new/assets\n"
     ]
    },
    {
     "name": "stdout",
     "output_type": "stream",
     "text": [
      "Epoch 19/20\n",
      "267/267 [==============================] - 3s 11ms/step - loss: 0.6113 - accuracy: 0.7590 - val_loss: 0.5323 - val_accuracy: 0.7870\n",
      "\n",
      "Epoch 00019: val_loss improved from 0.53437 to 0.53229, saving model to keras_model_d2v_new\n"
     ]
    },
    {
     "name": "stderr",
     "output_type": "stream",
     "text": [
      "WARNING:absl:Found untraced functions such as lstm_cell_4_layer_call_fn, lstm_cell_4_layer_call_and_return_conditional_losses, lstm_cell_4_layer_call_fn, lstm_cell_4_layer_call_and_return_conditional_losses, lstm_cell_4_layer_call_and_return_conditional_losses while saving (showing 5 of 5). These functions will not be directly callable after loading.\n",
      "WARNING:absl:Found untraced functions such as lstm_cell_4_layer_call_fn, lstm_cell_4_layer_call_and_return_conditional_losses, lstm_cell_4_layer_call_fn, lstm_cell_4_layer_call_and_return_conditional_losses, lstm_cell_4_layer_call_and_return_conditional_losses while saving (showing 5 of 5). These functions will not be directly callable after loading.\n"
     ]
    },
    {
     "name": "stdout",
     "output_type": "stream",
     "text": [
      "INFO:tensorflow:Assets written to: keras_model_d2v_new/assets\n"
     ]
    },
    {
     "name": "stderr",
     "output_type": "stream",
     "text": [
      "INFO:tensorflow:Assets written to: keras_model_d2v_new/assets\n"
     ]
    },
    {
     "name": "stdout",
     "output_type": "stream",
     "text": [
      "Epoch 20/20\n",
      "267/267 [==============================] - 3s 11ms/step - loss: 0.6083 - accuracy: 0.7631 - val_loss: 0.5364 - val_accuracy: 0.7879\n",
      "\n",
      "Epoch 00020: val_loss did not improve from 0.53229\n"
     ]
    }
   ],
   "source": [
    "estimator_new = d2v_model_lstm.fit(train_arr_lstm, y_lstm, validation_split=0.2, epochs=20, batch_size=32,callbacks=[ckpt_callback_2])"
   ]
  },
  {
   "cell_type": "markdown",
   "metadata": {
    "id": "4HPNY4wZWUia"
   },
   "source": [
    "On test data"
   ]
  },
  {
   "cell_type": "code",
   "execution_count": null,
   "metadata": {
    "colab": {
     "base_uri": "https://localhost:8080/",
     "height": 587
    },
    "id": "hpEmG8K-UpR9",
    "outputId": "295a4a0e-0584-481b-fcc4-08cf3ede7eee"
   },
   "outputs": [
    {
     "name": "stdout",
     "output_type": "stream",
     "text": [
      "Log loss: 0.5560077807738087\n",
      "Accuracy: 0.7740310926209766\n",
      "              precision    recall  f1-score   support\n",
      "\n",
      "           1       0.73      0.90      0.80      1379\n",
      "           2       0.85      0.92      0.88      1038\n",
      "           3       0.81      0.74      0.77      1612\n",
      "           4       0.55      0.28      0.37       538\n",
      "\n",
      "    accuracy                           0.77      4567\n",
      "   macro avg       0.73      0.71      0.71      4567\n",
      "weighted avg       0.76      0.77      0.76      4567\n",
      "\n"
     ]
    },
    {
     "name": "stderr",
     "output_type": "stream",
     "text": [
      "/usr/local/lib/python3.6/dist-packages/sklearn/utils/deprecation.py:87: FutureWarning: Function plot_confusion_matrix is deprecated; This will be removed in v0.4.0. Please use scikitplot.metrics.plot_confusion_matrix instead.\n",
      "  warnings.warn(msg, category=FutureWarning)\n"
     ]
    },
    {
     "data": {
      "text/plain": [
       "<matplotlib.axes._subplots.AxesSubplot at 0x7f7026f4b748>"
      ]
     },
     "execution_count": 69,
     "metadata": {
      "tags": []
     },
     "output_type": "execute_result"
    },
    {
     "data": {
      "image/png": "[encoded data removed]",
      "text/plain": [
       "<Figure size 432x288 with 2 Axes>"
      ]
     },
     "metadata": {
      "needs_background": "light",
      "tags": []
     },
     "output_type": "display_data"
    }
   ],
   "source": [
    "probas = d2v_model_lstm.predict(test_arr_lstm)\n",
    "probas = np.reshape(probas,(probas.shape[0],probas.shape[2]))\n",
    "pred_indices = np.argmax(probas, axis=1)\n",
    "classes = np.array(range(1, 5))\n",
    "preds = classes[pred_indices]\n",
    "print('Log loss: {}'.format(log_loss(classes[np.argmax(y_test, axis=1)], probas)))\n",
    "print('Accuracy: {}'.format(accuracy_score(classes[np.argmax(y_test, axis=1)], preds)))\n",
    "print(classification_report(classes[np.argmax(y_test, axis=1)], preds, labels=classes))\n",
    "skplt.plot_confusion_matrix(classes[np.argmax(y_test, axis=1)], preds)"
   ]
  }
 ],
 "metadata": {
  "colab": {
   "collapsed_sections": [],
   "name": "NLP_task_DL",
   "provenance": []
  },
  "kernelspec": {
   "display_name": "Python 3",
   "language": "python",
   "name": "python3"
  },
  "language_info": {
   "codemirror_mode": {
    "name": "ipython",
    "version": 3
   },
   "file_extension": ".py",
   "mimetype": "text/x-python",
   "name": "python",
   "nbconvert_exporter": "python",
   "pygments_lexer": "ipython3",
   "version": "3.8.3"
  }
 },
 "nbformat": 4,
 "nbformat_minor": 1
}
