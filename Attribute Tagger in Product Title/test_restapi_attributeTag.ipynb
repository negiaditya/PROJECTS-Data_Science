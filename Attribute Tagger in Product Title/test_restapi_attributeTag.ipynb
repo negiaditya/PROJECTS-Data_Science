{
 "cells": [
  {
   "cell_type": "code",
   "execution_count": 9,
   "id": "6ce795d6-3af4-4837-afbf-4bb24e508f05",
   "metadata": {},
   "outputs": [],
   "source": [
    "import pandas as pd\n",
    "import requests\n",
    "import json\n",
    "import datetime"
   ]
  },
  {
   "cell_type": "code",
   "execution_count": 10,
   "id": "b7305773-8889-48e2-8b79-c86e976ace2d",
   "metadata": {},
   "outputs": [],
   "source": [
    "url = \"http://127.0.0.1:5000/invocations\"\n",
    "headers = {'Content-type': 'application/json' , 'hdr_details':'{\"message_processing_mode\":\"SYNC\"}'}"
   ]
  },
  {
   "cell_type": "code",
   "execution_count": 11,
   "id": "87818646-1195-4f93-b931-2f62bf011175",
   "metadata": {},
   "outputs": [],
   "source": [
    "input_file_path = 'test_text1.json'\n",
    "input_df = pd.read_json(path_or_buf=input_file_path,dtype={'text': 'str'},orient='split')"
   ]
  },
  {
   "cell_type": "code",
   "execution_count": 12,
   "id": "5303b087-29cf-4796-bd2c-3081e38c757f",
   "metadata": {},
   "outputs": [],
   "source": [
    "def predict_output(input_df):\n",
    "    print('\\n ----------------- Prediction Start')\n",
    "    start_time = datetime.datetime.now()\n",
    "    response = requests.post(url, \n",
    "                             data=input_df.to_json(orient='split'), \n",
    "                             headers=headers)\n",
    "\n",
    "    status_code = response.status_code\n",
    "    print('response.status_code', status_code)\n",
    "    print('Duration from start_time: {}'.format(datetime.datetime.now() - start_time))\n",
    "    print('response.json()', response.json())\n",
    "\n",
    "    print('\\n ----------------- Prediction End')"
   ]
  },
  {
   "cell_type": "code",
   "execution_count": 13,
   "id": "f27e5b24-9f76-4ed0-bf8b-f3f5af05650e",
   "metadata": {},
   "outputs": [
    {
     "name": "stdout",
     "output_type": "stream",
     "text": [
      "\n",
      " ----------------- Prediction Start\n",
      "response.status_code 200\n",
      "Duration from start_time: 0:00:00.316894\n",
      "response.json() [{'input_text': 'Helga Sandal Dark Brown Leather 7 Medium', 'output': {'color': ['brown', 'dark brown', 'sand'], 'size': ['7', 'MEDIUM'], 'brand': 'Helga'}}]\n",
      "\n",
      " ----------------- Prediction End\n"
     ]
    }
   ],
   "source": [
    "predict_output(input_df)"
   ]
  }
 ],
 "metadata": {
  "kernelspec": {
   "display_name": "Python 3 (ipykernel)",
   "language": "python",
   "name": "python3"
  },
  "language_info": {
   "codemirror_mode": {
    "name": "ipython",
    "version": 3
   },
   "file_extension": ".py",
   "mimetype": "text/x-python",
   "name": "python",
   "nbconvert_exporter": "python",
   "pygments_lexer": "ipython3",
   "version": "3.10.2"
  }
 },
 "nbformat": 4,
 "nbformat_minor": 5
}
